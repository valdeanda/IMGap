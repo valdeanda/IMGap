{
 "cells": [
  {
   "cell_type": "code",
   "execution_count": 10,
   "metadata": {},
   "outputs": [],
   "source": [
    "import glob\n",
    "import pandas as pd"
   ]
  },
  {
   "cell_type": "code",
   "execution_count": 7,
   "metadata": {},
   "outputs": [],
   "source": [
    "dfs_list = []\n",
    "\n",
    "databases_path = '../../../output'\n",
    "\n",
    "#Make sure directory path is valid\n",
    "if databases_path[-1] != '/':\n",
    "    databases_path = databases_path + '/'\n",
    "else:\n",
    "    databases_path = databases_path"
   ]
  },
  {
   "cell_type": "code",
   "execution_count": 8,
   "metadata": {},
   "outputs": [],
   "source": [
    "#Verify database name is valid\n",
    "databases_list = '[KEGG, COG, Pfam]'.upper().strip('[]').split(', ')\n",
    "for check in databases_list:\n",
    "    if check not in ['KEGG', 'COG', 'PFAM', 'EC_NUMBER']:\n",
    "        print('Invalid database name was entered!')\n",
    "        #quit()"
   ]
  },
  {
   "cell_type": "code",
   "execution_count": 11,
   "metadata": {},
   "outputs": [],
   "source": [
    "#Get all dataframes and merge them\n",
    "for d in databases_list:\n",
    "    counter = 1\n",
    "    for file in glob.glob(databases_path + d + '_database*'):\n",
    "        if counter == 1:\n",
    "            merged_dfs = pd.read_csv(file, sep='\\t', index_col=False)\n",
    "        else:\n",
    "            f = pd.read_csv(file, sep='\\t', index_col=False)\n",
    "            merged_dfs = merged_dfs.merge(f, on=d, how='outer')\n",
    "        counter+=1\n",
    "\n",
    "    #Save each merged dataframe\n",
    "    merged_dfs.to_csv('../../../output/merged_' + d + '_database.tsv', sep='\\t', index=False)\n",
    "    if len(databases_list) > 1:\n",
    "        dfs_list.append(merged_dfs)"
   ]
  },
  {
   "cell_type": "code",
   "execution_count": 13,
   "metadata": {},
   "outputs": [],
   "source": [
    "if len(databases_list) > 1:\n",
    "    #Combine multiple database dataframes into one\n",
    "    final_df = pd.concat(dfs_list)\n",
    "    final_df = final_df.set_index(databases_list)\n",
    "    #Save dataframe containing multiple database columns\n",
    "    final_df.to_csv('../../../output/final_merged_database.tsv', sep='\\t', index=True)"
   ]
  },
  {
   "cell_type": "code",
   "execution_count": null,
   "metadata": {},
   "outputs": [],
   "source": []
  },
  {
   "cell_type": "code",
   "execution_count": null,
   "metadata": {},
   "outputs": [],
   "source": []
  },
  {
   "cell_type": "code",
   "execution_count": null,
   "metadata": {},
   "outputs": [],
   "source": []
  },
  {
   "cell_type": "code",
   "execution_count": null,
   "metadata": {},
   "outputs": [],
   "source": []
  },
  {
   "cell_type": "code",
   "execution_count": null,
   "metadata": {},
   "outputs": [],
   "source": []
  },
  {
   "cell_type": "code",
   "execution_count": null,
   "metadata": {},
   "outputs": [],
   "source": []
  }
 ],
 "metadata": {
  "kernelspec": {
   "display_name": "Python 3",
   "language": "python",
   "name": "python3"
  },
  "language_info": {
   "codemirror_mode": {
    "name": "ipython",
    "version": 3
   },
   "file_extension": ".py",
   "mimetype": "text/x-python",
   "name": "python",
   "nbconvert_exporter": "python",
   "pygments_lexer": "ipython3",
   "version": "3.8.5"
  }
 },
 "nbformat": 4,
 "nbformat_minor": 4
}
